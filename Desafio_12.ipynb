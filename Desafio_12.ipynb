{
 "cells": [
  {
   "cell_type": "markdown",
   "metadata": {},
   "source": [
    "Escreva uma função em Python para verificar a validade de uma senha.\n",
    "\n",
    "Validação:\n",
    "\n",
    "Pelo menos 1 letra entre [a-z] e 1 letra entre [A-Z].\n",
    "Pelo menos 1 número entre [0-9].\n",
    "Pelo menos 1 caractere de [$ # @].\n",
    "Comprimento mínimo de 6 caracteres.\n",
    "Comprimento máximo de 16 caracteres.\n",
    "Entradas: \"12345678\", \"J3sus0\", \"#Te5t300\", \"J*90j12374\", \"Michheeul\", \"Monk3y6\"\n",
    "\n",
    "A saída deve ser a senha e um texto indicando se a senha é válida ou inválida:\n",
    "\n",
    "\"1234\" - Senha inválida\n",
    "\"Qw#1234\" - Senha válida"
   ]
  },
  {
   "cell_type": "code",
   "execution_count": 1,
   "metadata": {},
   "outputs": [],
   "source": [
    "import re\n",
    "lista = [\"12345678\", \"J3sus0\", \"#Te5t300\", \"J*90j12374\", \"Michheeul\", \"Monk3y6\"]"
   ]
  },
  {
   "cell_type": "code",
   "execution_count": 4,
   "metadata": {},
   "outputs": [],
   "source": [
    "def senha(lista):\n",
    "    for i in lista:\n",
    "        if len(i) > 5 and len(i) < 17:\n",
    "            if len(re.findall(r'[A-Z]', i)) > 0:\n",
    "                if len(re.findall(r'[a-z]', i)) > 0:\n",
    "                    if len(re.findall(r'[0-9]', i)) > 0:\n",
    "                        if len(re.findall(r'[$, #, @]', i)) > 0:\n",
    "                            print(f'Senha Valida --> {i}')\n",
    "                        else:\n",
    "                            print(f'Senha Invalida --> {i}')\n",
    "                    else:\n",
    "                        print(f'Senha Invalida --> {i}')\n",
    "                else:\n",
    "                    print(f'Senha Invalida --> {i}')\n",
    "            else:\n",
    "                print(f'Senha Invalida --> {i}')\n",
    "        else:\n",
    "            print(f'Senha Invalida --> {i}')"
   ]
  },
  {
   "cell_type": "code",
   "execution_count": 5,
   "metadata": {},
   "outputs": [
    {
     "name": "stdout",
     "output_type": "stream",
     "text": [
      "Senha Invalida --> 12345678\n",
      "Senha Invalida --> J3sus0\n",
      "Senha Valida --> #Te5t300\n",
      "Senha Invalida --> J*90j12374\n",
      "Senha Invalida --> Michheeul\n",
      "Senha Invalida --> Monk3y6\n"
     ]
    }
   ],
   "source": [
    "senha(lista)"
   ]
  },
  {
   "cell_type": "code",
   "execution_count": null,
   "metadata": {},
   "outputs": [],
   "source": []
  }
 ],
 "metadata": {
  "kernelspec": {
   "display_name": "Python 3",
   "language": "python",
   "name": "python3"
  },
  "language_info": {
   "codemirror_mode": {
    "name": "ipython",
    "version": 3
   },
   "file_extension": ".py",
   "mimetype": "text/x-python",
   "name": "python",
   "nbconvert_exporter": "python",
   "pygments_lexer": "ipython3",
   "version": "3.8.5"
  }
 },
 "nbformat": 4,
 "nbformat_minor": 4
}
