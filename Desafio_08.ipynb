{
 "cells": [
  {
   "cell_type": "markdown",
   "metadata": {},
   "source": [
    "Escreva um script Python para encontrar as 10 palavras mais longas em um arquivo.\n",
    "\n",
    "O arquivo TXT está localizado na mesma pasta do projeto (texto.txt)."
   ]
  },
  {
   "cell_type": "code",
   "execution_count": 1,
   "metadata": {},
   "outputs": [],
   "source": [
    "# Define lista para tamanho das palavras\n",
    "palavras = []"
   ]
  },
  {
   "cell_type": "code",
   "execution_count": 2,
   "metadata": {},
   "outputs": [],
   "source": [
    "# Comando para abrir o arquivo\n",
    "with open('texto.txt') as file:\n",
    "    data=file.read().split() # Transforma o arquivo em lista"
   ]
  },
  {
   "cell_type": "code",
   "execution_count": 3,
   "metadata": {},
   "outputs": [],
   "source": [
    "for i in range(len(data)): # Preenche a lista com o tamanho das palavras do arquivo\n",
    "    palavras.append(len(data[i]))"
   ]
  },
  {
   "cell_type": "code",
   "execution_count": 4,
   "metadata": {},
   "outputs": [
    {
     "name": "stdout",
     "output_type": "stream",
     "text": [
      "\n"
     ]
    }
   ],
   "source": [
    "palavras = sorted(set(palavras), reverse=True) # Ordena a lista do maior para o menor sem repetições\n",
    "print()"
   ]
  },
  {
   "cell_type": "code",
   "execution_count": 5,
   "metadata": {},
   "outputs": [
    {
     "name": "stdout",
     "output_type": "stream",
     "text": [
      "1 - Quantidade de letras 16 ['general-purpose,', 'object-oriented,']\n",
      "2 - Quantidade de letras 13 ['comprehensive', 'intermediate)']\n",
      "3 - Quantidade de letras 12 ['interpreted,', 'language.Its', 'readability,']\n",
      "4 - Quantidade de letras 11 ['high-level,', 'programming', 'programmers', 'programming', 'programming', 'library.The']\n",
      "5 - Quantidade de letras 10 ['philosophy', 'emphasizes', 'paradigms,', 'imperative', 'functional', 'procedural', 'management', 'questions.']\n",
      "6 - Quantidade de letras 9 ['language?', 'languages', 'including', 'styles.It', 'automatic', '(beginner']\n",
      "7 - Quantidade de letras 8 ['concepts', 'possible', 'supports', 'multiple', 'features', 'standard', 'anything', 'practice', 'exercise', 'familiar']\n",
      "8 - Quantidade de letras 7 ['dynamic', 'express', 'dynamic', 'started', 'section', 'Python.']\n",
      "9 - Quantidade de letras 6 ['Python', 'Python', 'widely', 'design', 'syntax', 'allows', 'Python', 'system', 'memory']\n",
      "10 - Quantidade de letras 5 ['fewer', 'lines', 'Java.', 'large', 'learn', 'those']\n"
     ]
    }
   ],
   "source": [
    "for i in range(0,10): # Retorna o número de caracteres das dez maiores palavras\n",
    "    res=[word for word in data if len(word)==palavras[i]]\n",
    "    ct = i+1\n",
    "    print(str(ct)+' - Quantidade de letras', palavras[i], res)"
   ]
  },
  {
   "cell_type": "code",
   "execution_count": null,
   "metadata": {},
   "outputs": [],
   "source": []
  }
 ],
 "metadata": {
  "kernelspec": {
   "display_name": "Python 3",
   "language": "python",
   "name": "python3"
  },
  "language_info": {
   "codemirror_mode": {
    "name": "ipython",
    "version": 3
   },
   "file_extension": ".py",
   "mimetype": "text/x-python",
   "name": "python",
   "nbconvert_exporter": "python",
   "pygments_lexer": "ipython3",
   "version": "3.8.5"
  }
 },
 "nbformat": 4,
 "nbformat_minor": 4
}
