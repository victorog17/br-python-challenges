{
 "cells": [
  {
   "cell_type": "markdown",
   "metadata": {},
   "source": [
    "Dada uma lista, divida-a em 3 partes iguais e reverta cada lista.\n",
    "\n",
    "Exemplo:\n",
    "\n",
    "sampleList = [11, 45, 8, 23, 14, 12, 78, 45, 89]\n",
    "\n",
    "Parte 1 [8, 45, 11]\n",
    "\n",
    "Parte 2 [12, 14, 23]\n",
    "\n",
    "Parte 3 [89, 45, 78]"
   ]
  },
  {
   "cell_type": "code",
   "execution_count": 1,
   "metadata": {},
   "outputs": [
    {
     "name": "stdout",
     "output_type": "stream",
     "text": [
      "Digite o número de elementos que deseja que a lista tenha: 6\n",
      "Insira os elementos da lista\n",
      "Insira um número: 1\n",
      "Insira um número: 2\n",
      "Insira um número: 3\n",
      "Insira um número: 4\n",
      "Insira um número: 5\n",
      "Insira um número: 6\n"
     ]
    }
   ],
   "source": [
    "lista = []\n",
    "c = 0\n",
    "n = int(input('Digite o número de elementos que deseja que a lista tenha: '))\n",
    "print('Insira os elementos da lista')\n",
    "for i in range(1,n+1):\n",
    "    t = int(input('Insira um número: '))\n",
    "    lista.append(t)\n",
    "    c += 1"
   ]
  },
  {
   "cell_type": "code",
   "execution_count": 2,
   "metadata": {},
   "outputs": [],
   "source": [
    "x1 = []\n",
    "for i in range(int(len(lista)/3)):\n",
    "    x1.append(lista[i])\n",
    "x2 = []\n",
    "for i in range((int(len(lista)/3)),(int(len(lista)*2/3))):\n",
    "    x2.append(lista[i])\n",
    "x3 = []\n",
    "for i in range((int(len(lista)*2/3)),(int(len(lista)))):\n",
    "    x3.append(lista[i])\n",
    "x1.reverse()\n",
    "x2.reverse()\n",
    "x3.reverse()"
   ]
  },
  {
   "cell_type": "code",
   "execution_count": 3,
   "metadata": {},
   "outputs": [
    {
     "name": "stdout",
     "output_type": "stream",
     "text": [
      "A lista é composto por 6 elementos, onde completa é composta por: [1, 2, 3, 4, 5, 6]\n",
      "A lista dividida por 3 e invertida fica da seguinte forma:\n",
      "[2, 1]\n",
      "[4, 3]\n",
      "[6, 5]\n"
     ]
    }
   ],
   "source": [
    "print(f'A lista é composto por {c} elementos, onde completa é composta por: {lista}')\n",
    "print('A lista dividida por 3 e invertida fica da seguinte forma:')\n",
    "print(x1)\n",
    "print(x2)\n",
    "print(x3)"
   ]
  },
  {
   "cell_type": "code",
   "execution_count": null,
   "metadata": {},
   "outputs": [],
   "source": []
  }
 ],
 "metadata": {
  "kernelspec": {
   "display_name": "Python 3",
   "language": "python",
   "name": "python3"
  },
  "language_info": {
   "codemirror_mode": {
    "name": "ipython",
    "version": 3
   },
   "file_extension": ".py",
   "mimetype": "text/x-python",
   "name": "python",
   "nbconvert_exporter": "python",
   "pygments_lexer": "ipython3",
   "version": "3.8.5"
  }
 },
 "nbformat": 4,
 "nbformat_minor": 4
}
