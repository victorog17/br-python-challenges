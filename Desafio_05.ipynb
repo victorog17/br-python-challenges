{
 "cells": [
  {
   "cell_type": "markdown",
   "metadata": {},
   "source": [
    "Você trabalha em uma loja de sapatos e deve contatar uma lista de clientes dada pela seguinte lista de números de telefones:"
   ]
  },
  {
   "cell_type": "code",
   "execution_count": 1,
   "metadata": {},
   "outputs": [],
   "source": [
    "numeros_telefone = [\n",
    "'(765) 368-1506',\n",
    "'(285) 608-2448',\n",
    "'(255) 826-9050',\n",
    "'(554) 994-1517',\n",
    "'(285) 608-2448',\n",
    "'(596) 336-5508',\n",
    "'(511) 821-7870',\n",
    "'(410) 665-4447',\n",
    "'(821) 642-8987',\n",
    "'(285) 608-2448',\n",
    "'(311) 799-3883',\n",
    "'(935) 875-2054',\n",
    "'(464) 788-2397',\n",
    "'(765) 368-1506',\n",
    "'(650) 684-1437',\n",
    "'(812) 816-0881',\n",
    "'(285) 608-2448',\n",
    "'(885) 407-1719',\n",
    "'(943) 769-1061',\n",
    "'(596) 336-5508',\n",
    "'(765) 368-1506',\n",
    "'(255) 826-9050',\n",
    "]"
   ]
  },
  {
   "cell_type": "markdown",
   "metadata": {},
   "source": [
    "No entanto, alguns destes números estão duplicados. Você seria capaz de remover estes duplicados para evitar que clientes sejam contatado mais de uma vez?"
   ]
  },
  {
   "cell_type": "code",
   "execution_count": 2,
   "metadata": {},
   "outputs": [
    {
     "name": "stdout",
     "output_type": "stream",
     "text": [
      "{'(765) 368-1506', '(410) 665-4447', '(885) 407-1719', '(821) 642-8987', '(511) 821-7870', '(596) 336-5508', '(255) 826-9050', '(554) 994-1517', '(943) 769-1061', '(311) 799-3883', '(650) 684-1437', '(285) 608-2448', '(464) 788-2397', '(812) 816-0881', '(935) 875-2054'}\n"
     ]
    }
   ],
   "source": [
    "sem_duplicados = set(numeros_telefone)\n",
    "print(sem_duplicados)"
   ]
  },
  {
   "cell_type": "code",
   "execution_count": 7,
   "metadata": {},
   "outputs": [
    {
     "name": "stdout",
     "output_type": "stream",
     "text": [
      "['(765) 368-1506', '(285) 608-2448', '(255) 826-9050', '(554) 994-1517', '(596) 336-5508', '(511) 821-7870', '(410) 665-4447', '(821) 642-8987', '(311) 799-3883', '(935) 875-2054', '(464) 788-2397', '(650) 684-1437', '(812) 816-0881', '(885) 407-1719', '(943) 769-1061']\n"
     ]
    }
   ],
   "source": [
    "sem_duplicados2 = []\n",
    "for i in numeros_telefone:\n",
    "    if i not in sem_duplicados2:\n",
    "        sem_duplicados2.append(i)\n",
    "print(sem_duplicados2)"
   ]
  },
  {
   "cell_type": "code",
   "execution_count": null,
   "metadata": {},
   "outputs": [],
   "source": []
  }
 ],
 "metadata": {
  "kernelspec": {
   "display_name": "Python 3",
   "language": "python",
   "name": "python3"
  },
  "language_info": {
   "codemirror_mode": {
    "name": "ipython",
    "version": 3
   },
   "file_extension": ".py",
   "mimetype": "text/x-python",
   "name": "python",
   "nbconvert_exporter": "python",
   "pygments_lexer": "ipython3",
   "version": "3.8.5"
  }
 },
 "nbformat": 4,
 "nbformat_minor": 4
}
